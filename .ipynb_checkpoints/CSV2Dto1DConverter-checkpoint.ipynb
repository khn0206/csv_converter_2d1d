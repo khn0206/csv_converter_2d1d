{
 "cells": [
  {
   "cell_type": "code",
   "execution_count": 1,
   "metadata": {},
   "outputs": [
    {
     "name": "stdout",
     "output_type": "stream",
     "text": [
      "(6, 7)\n",
      "<bound method NDFrame.head of        col1   col2   col3   col4   col5   col6   col7\n",
      "name                                                 \n",
      "r1    row11  row12  row13  row14  row15  row16  row17\n",
      "r2    row21  row22  row23  row24  row25  row26  row27\n",
      "r3    row31  row32  row33  row34  row35  row36  row37\n",
      "r4    row41  row42  row43  row44  row45  row46  row47\n",
      "r5    row51  row52  row53  row54  row55  row56  row57\n",
      "r6    row61  row62  row63  row64  row65  row66  row67>\n",
      "r1\n"
     ]
    }
   ],
   "source": [
    "import pandas as pd\n",
    "import numpy as np\n",
    "\n",
    "df = pd.read_csv('sample.csv', index_col='name')"
   ]
  },
  {
   "cell_type": "code",
   "execution_count": 2,
   "metadata": {},
   "outputs": [
    {
     "name": "stdout",
     "output_type": "stream",
     "text": [
      "7\n"
     ]
    }
   ],
   "source": [
    "rowSize = df.shape[0]\n",
    "colSize = df.shape[1]\n",
    "\n",
    "resultTable = pd.DataFrame(np.empty((rowSize*colSize, 3)), columns=['rowName', 'colName','value'], dtype=object)"
   ]
  },
  {
   "cell_type": "code",
   "execution_count": 3,
   "metadata": {},
   "outputs": [
    {
     "name": "stdout",
     "output_type": "stream",
     "text": [
      "(42, 3)\n",
      "['col1', 'col2', 'col3', 'col4', 'col5', 'col6', 'col7']\n"
     ]
    }
   ],
   "source": [
    "head = list(df.head(0))"
   ]
  },
  {
   "cell_type": "code",
   "execution_count": 8,
   "metadata": {},
   "outputs": [
    {
     "name": "stdout",
     "output_type": "stream",
     "text": [
      "6 7\n"
     ]
    },
    {
     "name": "stderr",
     "output_type": "stream",
     "text": [
      "C:\\Users\\khn02\\Anaconda3\\lib\\site-packages\\ipykernel_launcher.py:8: FutureWarning: set_value is deprecated and will be removed in a future release. Please use .at[] or .iat[] accessors instead\n",
      "  \n",
      "C:\\Users\\khn02\\Anaconda3\\lib\\site-packages\\ipykernel_launcher.py:9: FutureWarning: set_value is deprecated and will be removed in a future release. Please use .at[] or .iat[] accessors instead\n",
      "  if __name__ == '__main__':\n",
      "C:\\Users\\khn02\\Anaconda3\\lib\\site-packages\\ipykernel_launcher.py:10: FutureWarning: get_value is deprecated and will be removed in a future release. Please use .at[] or .iat[] accessors instead\n",
      "  # Remove the CWD from sys.path while we load stuff.\n",
      "C:\\Users\\khn02\\Anaconda3\\lib\\site-packages\\ipykernel_launcher.py:10: FutureWarning: set_value is deprecated and will be removed in a future release. Please use .at[] or .iat[] accessors instead\n",
      "  # Remove the CWD from sys.path while we load stuff.\n"
     ]
    }
   ],
   "source": [
    "for i in range(0, rowSize):\n",
    "    for j in range(0, colSize):\n",
    "        index = (i * colSize) + j\n",
    "        resultTable.set_value(index, 'rowName', df.index[i])\n",
    "        resultTable.set_value(index, 'colName', head[j])\n",
    "        resultTable.set_value(index, 'value', df.get_value(i, j, True))"
   ]
  },
  {
   "cell_type": "code",
   "execution_count": 10,
   "metadata": {},
   "outputs": [
    {
     "name": "stdout",
     "output_type": "stream",
     "text": [
      "   name   col    val\n",
      "0    r1  col1  row11\n",
      "1    r1  col2  row12\n",
      "2    r1  col3  row13\n",
      "3    r1  col4  row14\n",
      "4    r1  col5  row15\n",
      "5    r1  col6  row16\n",
      "6    r1  col7  row17\n",
      "7    r2  col1  row21\n",
      "8    r2  col2  row22\n",
      "9    r2  col3  row23\n",
      "10   r2  col4  row24\n",
      "11   r2  col5  row25\n",
      "12   r2  col6  row26\n",
      "13   r2  col7  row27\n",
      "14   r3  col1  row31\n",
      "15   r3  col2  row32\n",
      "16   r3  col3  row33\n",
      "17   r3  col4  row34\n",
      "18   r3  col5  row35\n",
      "19   r3  col6  row36\n",
      "20   r3  col7  row37\n",
      "21   r4  col1  row41\n",
      "22   r4  col2  row42\n",
      "23   r4  col3  row43\n",
      "24   r4  col4  row44\n",
      "25   r4  col5  row45\n",
      "26   r4  col6  row46\n",
      "27   r4  col7  row47\n",
      "28   r5  col1  row51\n",
      "29   r5  col2  row52\n",
      "30   r5  col3  row53\n",
      "31   r5  col4  row54\n",
      "32   r5  col5  row55\n",
      "33   r5  col6  row56\n",
      "34   r5  col7  row57\n",
      "35   r6  col1  row61\n",
      "36   r6  col2  row62\n",
      "37   r6  col3  row63\n",
      "38   r6  col4  row64\n",
      "39   r6  col5  row65\n",
      "40   r6  col6  row66\n",
      "41   r6  col7  row67\n"
     ]
    }
   ],
   "source": [
    "print(resultTable)\n",
    "resultTable.to_csv('result.csv', sep=',')"
   ]
  },
  {
   "cell_type": "code",
   "execution_count": null,
   "metadata": {},
   "outputs": [],
   "source": []
  }
 ],
 "metadata": {
  "kernelspec": {
   "display_name": "Python 3",
   "language": "python",
   "name": "python3"
  },
  "language_info": {
   "codemirror_mode": {
    "name": "ipython",
    "version": 3
   },
   "file_extension": ".py",
   "mimetype": "text/x-python",
   "name": "python",
   "nbconvert_exporter": "python",
   "pygments_lexer": "ipython3",
   "version": "3.6.6"
  }
 },
 "nbformat": 4,
 "nbformat_minor": 2
}
